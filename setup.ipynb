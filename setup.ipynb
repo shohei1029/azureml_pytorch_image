{
 "cells": [
  {
   "cell_type": "markdown",
   "metadata": {},
   "source": [
    "# 事前準備\n",
    "## Conda 環境の構築  \n",
    "クライアントPCにでconda環境を作成します。予めMinicondaやAnacondaがインストールされている前提です。  \n",
    "※ファイルパスはリポジトリ直下を起点としています。"
   ]
  },
  {
   "cell_type": "markdown",
   "metadata": {},
   "source": [
    "yamlファイルに記載しているパッケージをベースに conda 環境 (notebook_env) を作成します。"
   ]
  },
  {
   "cell_type": "code",
   "execution_count": null,
   "metadata": {
    "scrolled": false,
    "tags": [
     "outputPrepend"
    ]
   },
   "outputs": [],
   "source": [
    "!conda env create -n \"notebook_env\" -f ./examples/distributed-pytorch-with-distributeddataparallel.yml"
   ]
  },
  {
   "cell_type": "code",
   "execution_count": null,
   "metadata": {},
   "outputs": [],
   "source": [
    "#確認\n",
    "!conda info -e"
   ]
  },
  {
   "cell_type": "code",
   "execution_count": null,
   "metadata": {},
   "outputs": [],
   "source": [
    "# #環境削除用\n",
    "# !conda remove -n \"\" --all -y"
   ]
  },
  {
   "cell_type": "code",
   "execution_count": null,
   "metadata": {},
   "outputs": [],
   "source": [
    "#Jupyter Notebook連携\n",
    "# ipython kernel install --user --name <myenv> --display-name \"Python (myenv)\""
   ]
  },
  {
   "source": [
    "## Azure ML ワークスペース情報の取得  \n",
    "Azure ML Studio上から「構成ファイルをダウンロード」し、`.config`ファイルを`examples`フォルダ下に配置します。\n",
    "![](./img/aml_config.png)"
   ],
   "cell_type": "markdown",
   "metadata": {}
  },
  {
   "source": [
    "## オプション：VSCode に Azure Machine Learning 拡張機能をインストール\n",
    "Azure Machine LearningのVSCode拡張機能を利用することで、計算環境の管理や実験の実行状況をVSCode上から確認できます。\n",
    "\n",
    "手順：[Visual Studio Code の Azure Machine Learning (プレビュー) 拡張機能を設定する](https://docs.microsoft.com/ja-jp/azure/machine-learning/tutorial-setup-vscode-extension)\n",
    "\n",
    "![](https://docs.microsoft.com/ja-jp/azure/machine-learning/media/tutorial-setup-vscode-extension/download-trained-model.png)"
   ],
   "cell_type": "markdown",
   "metadata": {}
  },
  {
   "source": [],
   "cell_type": "markdown",
   "metadata": {}
  }
 ],
 "metadata": {
  "kernelspec": {
   "display_name": "Python 3",
   "language": "python",
   "name": "python3"
  },
  "language_info": {
   "codemirror_mode": {
    "name": "ipython",
    "version": 3
   },
   "file_extension": ".py",
   "mimetype": "text/x-python",
   "name": "python",
   "nbconvert_exporter": "python",
   "pygments_lexer": "ipython3",
   "version": "3.8.5"
  }
 },
 "nbformat": 4,
 "nbformat_minor": 2
}